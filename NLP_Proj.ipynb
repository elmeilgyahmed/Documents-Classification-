{
 "cells": [
  {
   "cell_type": "code",
   "execution_count": 3,
   "metadata": {},
   "outputs": [],
   "source": [
    "from sklearn.datasets import fetch_20newsgroups # import the dataset\n",
    "from pprint import pprint\n",
    "from sklearn.feature_extraction.text import TfidfTransformer, TfidfVectorizer\n",
    "import tensorflow_datasets as tfds"
   ]
  },
  {
   "cell_type": "markdown",
   "metadata": {},
   "source": [
    "# Reading the dataset \n",
    "#### take only four category from the dataset because (run time problem)"
   ]
  },
  {
   "cell_type": "code",
   "execution_count": 25,
   "metadata": {},
   "outputs": [],
   "source": [
    "# take the train subset and test subset\n",
    "categories = [\n",
    "    'alt.atheism',\n",
    "    'talk.religion.misc',\n",
    "    'comp.graphics',\n",
    "    'sci.space'\n",
    "]\n",
    "data_train = fetch_20newsgroups(subset='train',\n",
    "                                categories=categories,\n",
    "                                shuffle = True,\n",
    "                                random_state = 7)\n",
    "\n",
    "data_test = fetch_20newsgroups(subset='test',\n",
    "                                shuffle = True,\n",
    "                                categories=categories,\n",
    "                                random_state = 7)"
   ]
  },
  {
   "cell_type": "code",
   "execution_count": 26,
   "metadata": {},
   "outputs": [
    {
     "name": "stdout",
     "output_type": "stream",
     "text": [
      "['alt.atheism', 'comp.graphics', 'sci.space', 'talk.religion.misc']\n"
     ]
    }
   ],
   "source": [
    "pprint(list(data_train.target_names))"
   ]
  },
  {
   "cell_type": "code",
   "execution_count": 31,
   "metadata": {},
   "outputs": [],
   "source": [
    "# get the labels of x_test and x_train \n",
    "X_train,y_train,X_test,y_test =data_train.data,data_train.target,data_test.data, data_test.target"
   ]
  },
  {
   "cell_type": "code",
   "execution_count": 28,
   "metadata": {},
   "outputs": [
    {
     "name": "stdout",
     "output_type": "stream",
     "text": [
      "Num. of training samples is 2034\n",
      "Num. of test samples is 1353\n"
     ]
    }
   ],
   "source": [
    "print(f\"Num. of training samples is {len(y_train)}\")\n",
    "print(f\"Num. of test samples is {len(y_test)}\")"
   ]
  },
  {
   "cell_type": "markdown",
   "metadata": {},
   "source": [
    "# SVM Model"
   ]
  },
  {
   "cell_type": "code",
   "execution_count": 22,
   "metadata": {},
   "outputs": [],
   "source": [
    "from sklearn.svm import SVC\n",
    "from sklearn.metrics import accuracy_score"
   ]
  },
  {
   "cell_type": "markdown",
   "metadata": {},
   "source": [
    "## Text Preprocessing "
   ]
  },
  {
   "cell_type": "markdown",
   "metadata": {},
   "source": [
    "1-Term Frequency – Inverse Document Frequency\n",
    "Term Frequency: Number of time a word appears in a text document.\n",
    "Inverse Document Frequency: Measure the word is a rare word or common word in a document."
   ]
  },
  {
   "cell_type": "code",
   "execution_count": 32,
   "metadata": {},
   "outputs": [],
   "source": [
    "vectorizer = TfidfVectorizer(max_df=0.5, min_df=2, stop_words='english', use_idf=True)\n",
    "X_train = vectorizer.fit_transform(X_train)\n",
    "X_test = vectorizer.transform(X_test)"
   ]
  },
  {
   "cell_type": "markdown",
   "metadata": {},
   "source": [
    "max_df : Ignore the term that has a document frequency higher than a threshold.\n",
    "min_df : Ignore the term that has a document frequency lower than a threshold.\n",
    "stop_words : Remove the defined words from resulting vocabulary.\n",
    "use_idf : boolean (default=True). Enable inverse-document-frequency reweighting."
   ]
  },
  {
   "cell_type": "code",
   "execution_count": 33,
   "metadata": {},
   "outputs": [
    {
     "data": {
      "text/plain": [
       "SVC()"
      ]
     },
     "execution_count": 33,
     "metadata": {},
     "output_type": "execute_result"
    }
   ],
   "source": [
    "svm_clf = SVC()\n",
    "svm_clf.fit(X_train.toarray(), y_train)"
   ]
  },
  {
   "cell_type": "code",
   "execution_count": 34,
   "metadata": {},
   "outputs": [
    {
     "name": "stdout",
     "output_type": "stream",
     "text": [
      "Train accuracy score: 99.95%\n",
      "Test accuracy score: 88.62%\n"
     ]
    }
   ],
   "source": [
    "svm_pred = svm_clf.predict(X_train.toarray())\n",
    "train_score = accuracy_score(y_train, svm_pred) * 100\n",
    "print(f\"Train accuracy score: {train_score:.2f}%\")\n",
    "\n",
    "svm_pred = svm_clf.predict(X_test.toarray())\n",
    "test_score = accuracy_score(y_test, svm_pred) * 100\n",
    "print(f\"Test accuracy score: {test_score:.2f}%\")"
   ]
  },
  {
   "cell_type": "markdown",
   "metadata": {},
   "source": [
    "#### Confusion Matrix"
   ]
  },
  {
   "cell_type": "code",
   "execution_count": 37,
   "metadata": {},
   "outputs": [],
   "source": [
    "from sklearn.metrics import  confusion_matrix ,ConfusionMatrixDisplay\n",
    "import matplotlib.pyplot as plt"
   ]
  },
  {
   "cell_type": "code",
   "execution_count": 42,
   "metadata": {},
   "outputs": [
    {
     "data": {
      "image/png": "[encoded data removed]",
      "text/plain": [
       "<Figure size 720x720 with 2 Axes>"
      ]
     },
     "metadata": {
      "needs_background": "light"
     },
     "output_type": "display_data"
    }
   ],
   "source": [
    "cm = confusion_matrix(y_test, svm_pred)\n",
    "disp = ConfusionMatrixDisplay(confusion_matrix=cm,\n",
    "                              display_labels=data_train.target_names)\n",
    "fig, ax = plt.subplots(figsize=(10, 10))\n",
    "disp = disp.plot(xticks_rotation='vertical', ax=ax)\n",
    "\n",
    "plt.show()"
   ]
  },
  {
   "cell_type": "markdown",
   "metadata": {},
   "source": [
    "#  CNN Model \n"
   ]
  },
  {
   "cell_type": "markdown",
   "metadata": {},
   "source": [
    "## Vetoriztion Step \n",
    "convert each word to vector using tensorflow_datasets"
   ]
  },
  {
   "cell_type": "code",
   "execution_count": 28,
   "metadata": {},
   "outputs": [
    {
     "name": "stdout",
     "output_type": "stream",
     "text": [
      "3\n",
      "2\n",
      "1\n"
     ]
    }
   ],
   "source": [
    "print(3)\n",
    "import tensorflow_datasets as tfds\n",
    "vocab_fname='vocab_file'\n",
    "print(2)\n",
    "tokenizer = tfds.deprecated.text.SubwordTextEncoder.build_from_corpus(X_train, target_vocab_size=2**18)\n",
    "print(1)\n",
    "train_inputs = [tokenizer.encode(text) for text in X_train]\n",
    "test_inputs = [tokenizer.encode(text) for text in X_test]\n",
    "tokenizer.save_to_file(vocab_fname)\n"
   ]
  },
  {
   "cell_type": "markdown",
   "metadata": {},
   "source": [
    "#### next run time load directly the vocab file "
   ]
  },
  {
   "cell_type": "code",
   "execution_count": 14,
   "metadata": {},
   "outputs": [],
   "source": [
    "vocab_fname='vocab_file'"
   ]
  },
  {
   "cell_type": "code",
   "execution_count": 16,
   "metadata": {},
   "outputs": [],
   "source": [
    "tokenizer = tfds.deprecated.text.SubwordTextEncoder.load_from_file(vocab_fname)\n",
    "train_inputs = [tokenizer.encode(text) for text in X_train]\n",
    "test_inputs = [tokenizer.encode(text) for text in X_test]"
   ]
  },
  {
   "cell_type": "code",
   "execution_count": 17,
   "metadata": {},
   "outputs": [
    {
     "name": "stdout",
     "output_type": "stream",
     "text": [
      "False\n"
     ]
    }
   ],
   "source": [
    "print(train_inputs[0]==train_inputs[1])"
   ]
  },
  {
   "cell_type": "markdown",
   "metadata": {},
   "source": [
    "Padding is needed due to invarient of inputs data "
   ]
  },
  {
   "cell_type": "code",
   "execution_count": 45,
   "metadata": {},
   "outputs": [
    {
     "name": "stdout",
     "output_type": "stream",
     "text": [
      "14220\n"
     ]
    }
   ],
   "source": [
    "import  tensorflow as tf\n",
    "MAX_LEN = max([len(sentence) for sentence in train_inputs])\n",
    "print(MAX_LEN)\n",
    "train_inputs = tf.keras.preprocessing.sequence.pad_sequences(train_inputs,\n",
    "                                                             value=0,\n",
    "                                                             padding=\"post\",\n",
    "                                                             maxlen=MAX_LEN)\n",
    "\n",
    "test_inputs = tf.keras.preprocessing.sequence.pad_sequences(test_inputs,\n",
    "                                                            value=0,\n",
    "                                                            padding=\"post\",\n",
    "                                                            maxlen=MAX_LEN)\n"
   ]
  },
  {
   "cell_type": "markdown",
   "metadata": {},
   "source": [
    "### Next Build the CNN architecture model "
   ]
  },
  {
   "cell_type": "code",
   "execution_count": null,
   "metadata": {},
   "outputs": [],
   "source": []
  }
 ],
 "metadata": {
  "kernelspec": {
   "display_name": "Python 3",
   "language": "python",
   "name": "python3"
  },
  "language_info": {
   "codemirror_mode": {
    "name": "ipython",
    "version": 3
   },
   "file_extension": ".py",
   "mimetype": "text/x-python",
   "name": "python",
   "nbconvert_exporter": "python",
   "pygments_lexer": "ipython3",
   "version": "3.8.5"
  }
 },
 "nbformat": 4,
 "nbformat_minor": 4
}
